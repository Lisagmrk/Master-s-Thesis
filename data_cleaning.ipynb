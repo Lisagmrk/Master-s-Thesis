{
 "cells": [
  {
   "cell_type": "markdown",
   "id": "03642339",
   "metadata": {},
   "source": [
    "## US and EU Sanctions on Russia after 2014"
   ]
  },
  {
   "cell_type": "markdown",
   "id": "c9f6be68",
   "metadata": {},
   "source": [
    "This notebook is part of my master's thesis on examining the impact of economic sanctions on Russia after its annexation of Crimea in 2014. It cleans the official sanctions lists of the EU and the US, divides each of them into targeted individuals and targeted entities, and then merges them to a comprehensive list of sanctioned individuals and sanctioned entities. It then identifies firms that were sanctioned indirectly (because either the majority shareholder or the global ultimate owner was sanctioned) and finally matches the comprehensive dataset of all targeted entities with data on economic performance from the ORBIS Europe dataset."
   ]
  },
  {
   "cell_type": "code",
   "execution_count": 183,
   "id": "7ede1280",
   "metadata": {},
   "outputs": [
    {
     "name": "stderr",
     "output_type": "stream",
     "text": [
      "'pandoc' is not recognized as an internal or external command,\n",
      "operable program or batch file.\n"
     ]
    }
   ],
   "source": [
    "!pandoc --version"
   ]
  },
  {
   "cell_type": "code",
   "execution_count": 1,
   "id": "35af9539",
   "metadata": {},
   "outputs": [],
   "source": [
    "import pandas as pd\n",
    "from fuzzywuzzy import fuzz\n",
    "from fuzzywuzzy import process"
   ]
  },
  {
   "cell_type": "markdown",
   "id": "755d7715",
   "metadata": {},
   "source": [
    "### 1. Cleaning the EU Sanctions List"
   ]
  },
  {
   "cell_type": "code",
   "execution_count": 2,
   "id": "dcecc878",
   "metadata": {},
   "outputs": [],
   "source": [
    "#Importing the EU sanctions list\n",
    "eu_sanctions = pd.read_csv(\"C:/Users/lisa/OneDrive - Nexus365/Thesis Data/eu_sanctions/eu_sanctions.csv\").iloc[:, 1:]"
   ]
  },
  {
   "cell_type": "code",
   "execution_count": 4,
   "id": "0f79bb41",
   "metadata": {},
   "outputs": [],
   "source": [
    "#Assigning names to columns\n",
    "column_names = [\"full_name\", \"identifying_information\", \"reasons\", \"date_of_listing\", \"type\"]\n",
    "eu_sanctions.columns=column_names"
   ]
  },
  {
   "cell_type": "code",
   "execution_count": 5,
   "id": "26d708a9",
   "metadata": {},
   "outputs": [],
   "source": [
    "#Adding a 'eu_sanction' column and setting it to 1\n",
    "eu_sanctions[\"eu_sanction\"] = 1"
   ]
  },
  {
   "cell_type": "code",
   "execution_count": 6,
   "id": "00d5ea15",
   "metadata": {},
   "outputs": [],
   "source": [
    "#Transform the 'date_of_listing' column into datetime format\n",
    "eu_sanctions[\"date_of_listing\"] = pd.to_datetime(eu_sanctions[\"date_of_listing\"], format=\"%d.%m.%Y\")"
   ]
  },
  {
   "cell_type": "code",
   "execution_count": 7,
   "id": "54b10231",
   "metadata": {},
   "outputs": [],
   "source": [
    "#Transforming names into upper cases\n",
    "eu_sanctions[\"full_name\"] = eu_sanctions[\"full_name\"].str.upper()"
   ]
  },
  {
   "cell_type": "code",
   "execution_count": 8,
   "id": "ae1ab7b1",
   "metadata": {},
   "outputs": [],
   "source": [
    "#Filtering for English names by removing names in Russian which are in parentheses\n",
    "eu_sanctions[\"full_name\"]=eu_sanctions[\"full_name\"].apply(lambda x: x.split(\"(\")[0])"
   ]
  },
  {
   "cell_type": "code",
   "execution_count": 9,
   "id": "21516717",
   "metadata": {},
   "outputs": [],
   "source": [
    "#Removing aliases which occur after line breaks\n",
    "eu_sanctions[\"full_name\"]=eu_sanctions[\"full_name\"].apply(lambda x: x.split(\"\\n\")[0])"
   ]
  },
  {
   "cell_type": "code",
   "execution_count": 10,
   "id": "61740598",
   "metadata": {},
   "outputs": [],
   "source": [
    "#Addressing an individual format error of the original EU sanctions list\n",
    "eu_sanctions.loc[eu_sanctions[\"full_name\"] == \"DIMITRIY \", \"full_name\"] = \"DIMITRIY VALERIEVICH UTKIN\""
   ]
  },
  {
   "cell_type": "code",
   "execution_count": 11,
   "id": "7b1b5ec6",
   "metadata": {},
   "outputs": [],
   "source": [
    "#Dividing sanctioned entities and individuals in separate dataframes\n",
    "eu_sanctions_entities = eu_sanctions[eu_sanctions[\"type\"]==\"Entity\"]\n",
    "eu_sanctions_individuals = eu_sanctions[eu_sanctions[\"type\"]==\"Individual\"]"
   ]
  },
  {
   "cell_type": "code",
   "execution_count": 12,
   "id": "b68dd2c6",
   "metadata": {},
   "outputs": [],
   "source": [
    "#Saving the dataframe of sanctioned entities\n",
    "eu_sanctions_entities.to_csv(\"C:/Users/lisa/OneDrive - Nexus365/Thesis Data/eu_sanctions/eu_sanctions_entities.csv\")"
   ]
  },
  {
   "cell_type": "code",
   "execution_count": 17,
   "id": "0119be92",
   "metadata": {},
   "outputs": [],
   "source": [
    "#Splitting the 'full_name' column into given and last names\n",
    "eu_sanctions_individuals[[\"given_name\", \"last_name_eu\"]] = eu_sanctions_individuals[\"full_name\"]\\\n",
    "                                                                        .str.rsplit(n=1, expand=True)"
   ]
  },
  {
   "cell_type": "code",
   "execution_count": 14,
   "id": "f5ce2931",
   "metadata": {},
   "outputs": [],
   "source": [
    "#Rearranging the order of columns\n",
    "eu_sanctions_individuals = eu_sanctions_individuals[[\"full_name\",\"given_name\", \"last_name_eu\", \"type\", \"date_of_listing\", \"eu_sanction\", \"identifying_information\", \"reasons\"]]"
   ]
  },
  {
   "cell_type": "code",
   "execution_count": 15,
   "id": "ad1fc2b9",
   "metadata": {},
   "outputs": [],
   "source": [
    "#Saving the dataframe of sanctioned individuals\n",
    "eu_sanctions_individuals.to_csv(\"C:/Users/lisa/OneDrive - Nexus365/Thesis Data/eu_sanctions/eu_sanctions_individuals.csv\")"
   ]
  },
  {
   "cell_type": "markdown",
   "id": "f7cd425b",
   "metadata": {},
   "source": [
    "### 2. Cleaning the US Sanctions List"
   ]
  },
  {
   "cell_type": "code",
   "execution_count": 18,
   "id": "06b81018",
   "metadata": {},
   "outputs": [],
   "source": [
    "#Importing the US Sanctions list from the OFAC website\n",
    "us_sanctions = pd.read_csv(\"C:/Users/lisa/OneDrive - Nexus365/Thesis Data/us_sanctions/us_sanctions.csv\", header=None)"
   ]
  },
  {
   "cell_type": "code",
   "execution_count": 20,
   "id": "b4dcf2e8",
   "metadata": {},
   "outputs": [],
   "source": [
    "#Assigning names to columns\n",
    "column_names = [\"full_name\", \"address\", \"type\", \"program\", \"list\", \"other\"]\n",
    "us_sanctions.columns=column_names"
   ]
  },
  {
   "cell_type": "code",
   "execution_count": 21,
   "id": "511bd9f8",
   "metadata": {},
   "outputs": [],
   "source": [
    "#Dropping irrelevant columns\n",
    "us_sanctions = us_sanctions.drop(columns=[\"list\", \"other\"])"
   ]
  },
  {
   "cell_type": "code",
   "execution_count": 22,
   "id": "76070133",
   "metadata": {},
   "outputs": [
    {
     "data": {
      "text/plain": [
       "type\n",
       "Entity        475\n",
       "Individual    258\n",
       "Vessel         10\n",
       "Aircraft        6\n",
       "Name: count, dtype: int64"
      ]
     },
     "execution_count": 22,
     "metadata": {},
     "output_type": "execute_result"
    }
   ],
   "source": [
    "#Examining the types of sanctioned items\n",
    "us_sanctions[\"type\"].value_counts()"
   ]
  },
  {
   "cell_type": "code",
   "execution_count": 23,
   "id": "c89d55ba",
   "metadata": {},
   "outputs": [],
   "source": [
    "#Removing vessels and aircrafts\n",
    "relevant_types = [\"Entity\", \"Individual\"]\n",
    "us_sanctions=us_sanctions[us_sanctions[\"type\"].isin(relevant_types)]"
   ]
  },
  {
   "cell_type": "code",
   "execution_count": 24,
   "id": "cfe2dd7a",
   "metadata": {},
   "outputs": [],
   "source": [
    "#Splitting the 'program' column to only contain sanctions programs related to Ukraine\n",
    "us_sanctions[\"program\"] = us_sanctions[\"program\"].apply(lambda x: str(x).split(\";\"))\n",
    "us_sanctions[\"program\"] = us_sanctions[\"program\"]\\\n",
    "                            .apply(lambda x: ', '.join([value.strip() for value in x if 'UKRAINE' in value]))"
   ]
  },
  {
   "cell_type": "code",
   "execution_count": 25,
   "id": "faa6866f",
   "metadata": {
    "scrolled": true
   },
   "outputs": [
    {
     "data": {
      "text/plain": [
       "program\n",
       "UKRAINE-EO13662                     300\n",
       "UKRAINE-EO13661                     180\n",
       "UKRAINE-EO13660                     152\n",
       "UKRAINE-EO13685                      91\n",
       "UKRAINE-EO13661, UKRAINE-EO13662      7\n",
       "UKRAINE-EO13660, UKRAINE-EO13685      1\n",
       "UKRAINE-EO13661, UKRAINE-EO13685      1\n",
       "UKRAINE-EO13660, UKRAINE-EO13661      1\n",
       "Name: count, dtype: int64"
      ]
     },
     "execution_count": 25,
     "metadata": {},
     "output_type": "execute_result"
    }
   ],
   "source": [
    "#Examining the remaining programs\n",
    "us_sanctions[\"program\"].value_counts()"
   ]
  },
  {
   "cell_type": "code",
   "execution_count": 26,
   "id": "60a468e4",
   "metadata": {},
   "outputs": [],
   "source": [
    "#Creating a dictionary of sanctions programs and their respective implementation date\n",
    "program_dates = {\"UKRAINE-EO13660\":\"2014-06-03\",\n",
    "                 \"UKRAINE-EO13661\":\"2014-03-16\",\n",
    "                 \"UKRAINE-EO13662\":\"2014-03-20\",\n",
    "                 \"UKRAINE-EO13685\":\"2014-12-19\",\n",
    "                 \"UKRAINE-EO13660, UKRAINE-EO13661\":\"2014-06-03\",\n",
    "                 \"UKRAINE-EO13660, UKRAINE-EO13685\":\"2014-06-03\",\n",
    "                 \"UKRAINE-EO13661, UKRAINE-EO13685\":\"2014-03-16\",\n",
    "                 \"UKRAINE-EO13661, UKRAINE-EO13662\":\"2014-03-16\"}"
   ]
  },
  {
   "cell_type": "code",
   "execution_count": 27,
   "id": "9a7c9951",
   "metadata": {},
   "outputs": [],
   "source": [
    "#Adding a 'date_of_listing' column containing the implementation date and converting it \n",
    "us_sanctions[\"date_of_listing\"] = pd.to_datetime(us_sanctions[\"program\"].map(program_dates))"
   ]
  },
  {
   "cell_type": "code",
   "execution_count": 28,
   "id": "e893959f",
   "metadata": {},
   "outputs": [],
   "source": [
    "#Adding a 'us_sanction' column and setting it to 1\n",
    "us_sanctions[\"us_sanction\"] = 1"
   ]
  },
  {
   "cell_type": "code",
   "execution_count": 29,
   "id": "08437a40",
   "metadata": {},
   "outputs": [],
   "source": [
    "#Transforming the 'name' into upper case (to match the format of the EU sanctions list)\n",
    "us_sanctions[\"full_name\"]=us_sanctions[\"full_name\"].str.upper()"
   ]
  },
  {
   "cell_type": "code",
   "execution_count": 30,
   "id": "fa46d9f9",
   "metadata": {},
   "outputs": [],
   "source": [
    "#Dividing sanctioned entities and individuals in separate dataframes\n",
    "us_sanctions_entities = us_sanctions[us_sanctions[\"type\"]==\"Entity\"]\n",
    "us_sanctions_individuals = us_sanctions[us_sanctions[\"type\"]==\"Individual\"]"
   ]
  },
  {
   "cell_type": "code",
   "execution_count": 31,
   "id": "f7b868e6",
   "metadata": {},
   "outputs": [],
   "source": [
    "#Saving the dataframe of sanctioned entities\n",
    "us_sanctions_entities.to_csv(\"C:/Users/lisa/OneDrive - Nexus365/Thesis Data/us_sanctions/us_sanctions_entities.csv\")"
   ]
  },
  {
   "cell_type": "code",
   "execution_count": 32,
   "id": "97fa67bc",
   "metadata": {},
   "outputs": [],
   "source": [
    "#Transforming the names of individuals to align with the format of the EU sanctions list\n",
    "def transform_name(name):\n",
    "    name_parts = name.split(\", \")\n",
    "    if len (name_parts)==2:\n",
    "        last_name,first_name = name.split(\", \")\n",
    "        reordered_name = \"\".join(first_name)+\" \"+last_name\n",
    "        return reordered_name\n",
    "    else:\n",
    "        return name\n",
    "    \n",
    "us_sanctions_individuals.loc[:, \"full_name\"] = us_sanctions_individuals[\"full_name\"].apply(transform_name)"
   ]
  },
  {
   "cell_type": "code",
   "execution_count": 33,
   "id": "43d5e738",
   "metadata": {},
   "outputs": [],
   "source": [
    "#Splitting the 'full_name' column into given and last names\n",
    "us_sanctions_individuals[[\"given_name\", \"last_name_us\"]] = us_sanctions_individuals[\"full_name\"]\\\n",
    "                                                                                .str.rsplit(n=1, expand=True)"
   ]
  },
  {
   "cell_type": "code",
   "execution_count": 34,
   "id": "7e729569",
   "metadata": {},
   "outputs": [],
   "source": [
    "#Rearranging the order of columns\n",
    "us_sanctions_individuals = us_sanctions_individuals\\\n",
    "    [[\"full_name\", \"given_name\", \"last_name_us\", \"type\", \"date_of_listing\", \"us_sanction\", \"program\"]]"
   ]
  },
  {
   "cell_type": "code",
   "execution_count": 36,
   "id": "579704c5",
   "metadata": {},
   "outputs": [],
   "source": [
    "#Saving the dataframe of sanctioned individuals\n",
    "us_sanctions_individuals.to_csv(\"C:/Users/lisa/OneDrive - Nexus365/Thesis Data/us_sanctions/us_sanctions_individuals.csv\")"
   ]
  },
  {
   "cell_type": "markdown",
   "id": "30f734a9",
   "metadata": {},
   "source": [
    "### 3. Merging the Individuals of the EU and US Sanctions List"
   ]
  },
  {
   "cell_type": "code",
   "execution_count": 37,
   "id": "cdbb9ffe",
   "metadata": {},
   "outputs": [],
   "source": [
    "#Conducting fuzzy matching on the 'last_name' columns of the EU and US sanctions list with a threshold of 80\n",
    "def fuzzy_merge(df_1, df_2, key1, key2, threshold=80, limit=4):\n",
    "    \n",
    "    s = df_2[key2].tolist()\n",
    "    \n",
    "    m = df_1[key1].apply(lambda x: process.extract(x, s, limit=limit))    \n",
    "    df_1['matches'] = m\n",
    "    \n",
    "    m2 = df_1['matches'].apply(lambda x: ', '.join([i[0] for i in x if i[1] >= threshold]))\n",
    "    df_1['matches'] = m2\n",
    "    \n",
    "    merged_df = pd.merge(df_1, df_2, how='outer', left_on='matches', right_on=key2, suffixes=('_eu', '_us'))\n",
    "    \n",
    "    return merged_df\n",
    "\n",
    "merged_individuals = fuzzy_merge(eu_sanctions_individuals, us_sanctions_individuals, \"last_name_eu\", 'last_name_us')"
   ]
  },
  {
   "cell_type": "code",
   "execution_count": 38,
   "id": "5bf91081",
   "metadata": {},
   "outputs": [
    {
     "data": {
      "text/plain": [
       "Index(['full_name_eu', 'given_name_eu', 'last_name_eu', 'type_eu',\n",
       "       'date_of_listing_eu', 'eu_sanction', 'identifying_information',\n",
       "       'reasons', 'matches', 'full_name_us', 'given_name_us', 'last_name_us',\n",
       "       'type_us', 'date_of_listing_us', 'us_sanction', 'program'],\n",
       "      dtype='object')"
      ]
     },
     "execution_count": 38,
     "metadata": {},
     "output_type": "execute_result"
    }
   ],
   "source": [
    "merged_individuals.columns"
   ]
  },
  {
   "cell_type": "code",
   "execution_count": 39,
   "id": "14565735",
   "metadata": {},
   "outputs": [],
   "source": [
    "#Rearranging the columns in a way that allows for easy manual review of the matching process\n",
    "matching_review =  merged_individuals[[\"full_name_eu\", \"full_name_us\", \"identifying_information\",\n",
    "                                       \"reasons\",\"date_of_listing_eu\", \"type_eu\", \"eu_sanction\", \"given_name_eu\",\n",
    "                                       \"last_name_eu\", \"date_of_listing_us\", \"us_sanction\", \"program\"]]\n",
    "\n",
    "#Saving matching_review and checking it manually for false positives\n",
    "matching_review.to_csv(\"C:/Users/lisa/OneDrive - Nexus365/Thesis Data/fuzzy_matching/matching_review.csv\")"
   ]
  },
  {
   "cell_type": "code",
   "execution_count": 125,
   "id": "d5a6fbf7",
   "metadata": {},
   "outputs": [],
   "source": [
    "#Loading the manually reviewed matching result\n",
    "sanctioned_individuals = pd.read_csv(\"C:/Users/lisa/OneDrive - Nexus365/Thesis Data/fuzzy_matching/fuzzy_matched_individuals.csv\")"
   ]
  },
  {
   "cell_type": "code",
   "execution_count": 126,
   "id": "012fb351",
   "metadata": {},
   "outputs": [],
   "source": [
    "#Filtering and arranging the relevant columns for analysis\n",
    "sanctioned_individuals = sanctioned_individuals[[\"full_name\", \"given_name_eu\", \"last_name_eu\", \"type\", \"date_of_listing_eu\",\n",
    "                                                \"date_of_listing_us\", \"eu_sanction\", \"us_sanction\"]]"
   ]
  },
  {
   "cell_type": "code",
   "execution_count": 127,
   "id": "197196bd",
   "metadata": {},
   "outputs": [],
   "source": [
    "#Renaming the 'given_name_eu' and 'last_name_eu' columns\n",
    "sanctioned_individuals.rename(columns={\"given_name_eu\": \"given_name\",\n",
    "                                       \"last_name_eu\": \"last_name\"}, inplace=True)"
   ]
  },
  {
   "cell_type": "code",
   "execution_count": 128,
   "id": "deccbfa4",
   "metadata": {},
   "outputs": [],
   "source": [
    "#Filling NAs in 'eu_sanction' and 'us_sanction' with 0\n",
    "sanctioned_individuals[[\"eu_sanction\", \"us_sanction\"]] = sanctioned_individuals[[\"eu_sanction\", \"us_sanction\"]].fillna(0)"
   ]
  },
  {
   "cell_type": "code",
   "execution_count": 129,
   "id": "8720d91b",
   "metadata": {},
   "outputs": [],
   "source": [
    "#Transforming the dates columns into datetime format\n",
    "date_cols = [\"date_of_listing_eu\", \"date_of_listing_us\"]\n",
    "sanctioned_individuals[date_cols] = sanctioned_individuals[date_cols].apply(pd.to_datetime, format=\"%d/%m/%Y\")"
   ]
  },
  {
   "cell_type": "code",
   "execution_count": 131,
   "id": "2f46cf1b",
   "metadata": {},
   "outputs": [],
   "source": [
    "#Saving the 'sanctioned_individuals' dataframe\n",
    "sanctioned_individuals.to_csv(\"C:/Users/lisa/OneDrive - Nexus365/Thesis Data/sanction_entities_and_individuals/sanctioned_individualls.csv\")"
   ]
  },
  {
   "cell_type": "markdown",
   "id": "b481f884",
   "metadata": {},
   "source": [
    "### 3. Merging the entities of EU and US Sanctions Lists"
   ]
  },
  {
   "cell_type": "code",
   "execution_count": 59,
   "id": "fe9c81e7",
   "metadata": {},
   "outputs": [],
   "source": [
    "#Reducing legal entity types to acronyms\n",
    "replace_dict = {\"PUBLIC JOINT STOCK COMPANY\": \"PJSC\",\n",
    "                \"JOINT-STOCK COMPANY\": \"J-SC\", \n",
    "                \"JOINT STOCK COMPANY\": \"JSC\", \n",
    "                \"LIMITED LIABILITY COMPANY\": \"LLC\",\n",
    "                \"OBSHCHESTVO S OGRANICHENNOY OTVETSTVENNOSTYU\":\"OOO\",\n",
    "                \"OTKRYTOE AKTSIONERNOE OBSHCHESTVO\":\"OAO\",\n",
    "                \"AKTSIONERNOE OBSHCHESTVO\":\"AO\"}\n",
    "\n",
    "sanctions_entities_list = [us_sanctions_entities, eu_sanctions_entities]\n",
    "\n",
    "for df in sanctions_entities_list:\n",
    "    df.replace(to_replace=replace_dict, regex=True, inplace=True)"
   ]
  },
  {
   "cell_type": "code",
   "execution_count": 60,
   "id": "79e6973a",
   "metadata": {},
   "outputs": [],
   "source": [
    "#Conducting a fuzzy merge on company names with a threshold of 90\n",
    "def fuzzy_merge(df_1, df_2, key1, key2, threshold=90, limit=4):\n",
    "    \n",
    "    s = df_2[key2].tolist()\n",
    "    \n",
    "    m = df_1[key1].apply(lambda x: process.extract(x, s, limit=limit))    \n",
    "    df_1['matches'] = m\n",
    "    \n",
    "    m2 = df_1['matches'].apply(lambda x: ', '.join([i[0] for i in x if i[1] >= threshold]))\n",
    "    df_1['matches'] = m2\n",
    "    \n",
    "    merged_df = pd.merge(df_1, df_2, how='outer', left_on='matches', right_on=key2, suffixes=('_eu', '_us'))\n",
    "    \n",
    "    return merged_df\n",
    "\n",
    "merged_entities = fuzzy_merge(eu_sanctions_entities, us_sanctions_entities,\"full_name\", \"full_name\", threshold=90)"
   ]
  },
  {
   "cell_type": "code",
   "execution_count": 61,
   "id": "d707adc0",
   "metadata": {},
   "outputs": [],
   "source": [
    "#Rearranging the columns in a way that allows for easy manual review of the matching process\n",
    "matching_review_entities =  merged_entities[[\"full_name_eu\", \"full_name_us\", \"identifying_information\",\n",
    "                                             \"reasons\",\"date_of_listing_eu\", \"type_eu\", \"eu_sanction\",\n",
    "                                             \"date_of_listing_us\", \"us_sanction\", \"program\"]]\n",
    "\n",
    "#Saving matching_review and checking it manually for false positives and removing non-commercial entities\n",
    "#(e.g. Luhansk Republic, Donetsk Republic)\n",
    "matching_review_entities.to_csv(\"C:/Users/lisa/OneDrive - Nexus365/Thesis Data/fuzzy_matching/matching_review_entities.csv\")"
   ]
  },
  {
   "cell_type": "code",
   "execution_count": 72,
   "id": "280e77d3",
   "metadata": {},
   "outputs": [],
   "source": [
    "#Loading the manually reviewed matching result\n",
    "sanctioned_entities = pd.read_csv(\"C:/Users/lisa/OneDrive - Nexus365/Thesis Data/fuzzy_matching/fuzzy_matched_entities.csv\")"
   ]
  },
  {
   "cell_type": "code",
   "execution_count": 74,
   "id": "b860f3ef",
   "metadata": {},
   "outputs": [],
   "source": [
    "#Filtering and arranging the relevant columns for analysis\n",
    "sanctioned_entities = sanctioned_entities[[\"full_name\", \"type\", \"date_of_listing_eu\",\n",
    "                                                \"date_of_listing_us\", \"eu_sanction\", \"us_sanction\"]]"
   ]
  },
  {
   "cell_type": "code",
   "execution_count": 76,
   "id": "6984e770",
   "metadata": {},
   "outputs": [],
   "source": [
    "#Filling NAs in 'eu_sanction' and 'us_sanction' with 0\n",
    "sanctioned_entities[[\"eu_sanction\", \"us_sanction\"]] = sanctioned_entities[[\"eu_sanction\", \"us_sanction\"]].fillna(0)"
   ]
  },
  {
   "cell_type": "code",
   "execution_count": 77,
   "id": "82eae6ea",
   "metadata": {},
   "outputs": [],
   "source": [
    "#Transforming the dates columns into datetime format\n",
    "date_cols = [\"date_of_listing_eu\", \"date_of_listing_us\"]\n",
    "sanctioned_entities[date_cols] = sanctioned_entities[date_cols].apply(pd.to_datetime, format=\"%d/%m/%Y\")"
   ]
  },
  {
   "cell_type": "code",
   "execution_count": 111,
   "id": "831021cc",
   "metadata": {},
   "outputs": [],
   "source": [
    "#Saving the 'sanctioned_entities' dataframe\n",
    "sanctioned_entities.to_csv(\"C:/Users/lisa/OneDrive - Nexus365/Thesis Data/sanction_entities_and_individuals/sanctioned_entities_2.csv\")"
   ]
  },
  {
   "cell_type": "markdown",
   "id": "7da657d5",
   "metadata": {},
   "source": [
    "### 4. Identifying entities that were sanctioned indirectly"
   ]
  },
  {
   "cell_type": "markdown",
   "id": "bd6f3d52",
   "metadata": {},
   "source": [
    "#### 4.1 Identifying entities whose Global Ultimate Owner was sanctioned"
   ]
  },
  {
   "cell_type": "code",
   "execution_count": 135,
   "id": "946e268d",
   "metadata": {},
   "outputs": [],
   "source": [
    "#Importing ownership data from ORBIS Europe and sanctioned_individuals\n",
    "orbis_ownership_data = pd.read_csv(\"C:/Users/lisa/OneDrive - Nexus365/Thesis Data/Orbis Data/orbis_ownership_data\")\n",
    "sanctioned_individuals = pd.read_csv(\"C:/Users/lisa/OneDrive - Nexus365/Thesis Data/sanction_entities_and_individuals/sanctioned_individuals.csv\")\n",
    "sanctioned_entities = pd.read_csv(\"C:/Users/lisa/OneDrive - Nexus365/Thesis Data/sanction_entities_and_individuals/sanctioned_entities.csv\")"
   ]
  },
  {
   "cell_type": "code",
   "execution_count": 120,
   "id": "2207131b",
   "metadata": {},
   "outputs": [],
   "source": [
    "#Forward filling the name column of orbis ownership data\n",
    "orbis_ownership_data[\"Company name Latin alphabet\"]=orbis_ownership_data[\"Company name Latin alphabet\"]\\\n",
    "                                                                                    .fillna(method=\"ffill\")"
   ]
  },
  {
   "cell_type": "code",
   "execution_count": 140,
   "id": "b9eea120",
   "metadata": {},
   "outputs": [],
   "source": [
    "#Joining the names of all sanctioned targets (both individuals and entities)\n",
    "sanctioned_names = set(sanctioned_entities[\"full_name\"]) | set(sanctioned_individuals[\"full_name\"])"
   ]
  },
  {
   "cell_type": "code",
   "execution_count": 143,
   "id": "d8bdc144",
   "metadata": {},
   "outputs": [],
   "source": [
    "#Conducting a fuzzy match between sanctioned_names and the Global Ultimate Owner column with a threshold of 90\n",
    "threshold = 90\n",
    "\n",
    "def get_max_similarity_score(name, sanctioned_names):\n",
    "    return max(fuzz.token_sort_ratio(name, sanctioned_name) for sanctioned_name in sanctioned_names)\n",
    "\n",
    "def calculate_similarity(row, sanctioned_names):\n",
    "    return get_max_similarity_score(row['GUO - Name'], sanctioned_names)\n",
    "\n",
    "orbis_ownership_data['SimilarityScore_1'] = orbis_ownership_data.apply(lambda row: calculate_similarity(row, sanctioned_names), axis=1)\n",
    "\n",
    "GUO_sanctioned = orbis_ownership_data[orbis_ownership_data['SimilarityScore_1'] >= threshold]"
   ]
  },
  {
   "cell_type": "code",
   "execution_count": 144,
   "id": "e16b7725",
   "metadata": {},
   "outputs": [],
   "source": [
    "#Adding a 'guo_sanctioned' column and setting it to 1\n",
    "GUO_sanctioned[\"guo_sanctioned\"]=1"
   ]
  },
  {
   "cell_type": "code",
   "execution_count": 145,
   "id": "e1e0adbd",
   "metadata": {},
   "outputs": [],
   "source": [
    "#Saving GUO_sanctioned and manually removing false positives\n",
    "GUO_sanctioned.to_csv(\"C:/Users/lisa/OneDrive - Nexus365/Thesis Data/sanction_entities_and_individuals/GUO_sanctioned.csv\")"
   ]
  },
  {
   "cell_type": "markdown",
   "id": "a52458c3",
   "metadata": {},
   "source": [
    "#### 4.2 Identifying entities whose shareholders were sanctioned"
   ]
  },
  {
   "cell_type": "code",
   "execution_count": 146,
   "id": "022f77d3",
   "metadata": {},
   "outputs": [],
   "source": [
    "#Conducting a fuzzy match between sanctioned_names and the Shareholder column with a threshold of 90\n",
    "threshold = 90\n",
    "\n",
    "def get_max_similarity_score(name, sanctioned_names):\n",
    "    return max(fuzz.token_sort_ratio(name, sanctioned_name) for sanctioned_name in sanctioned_names)\n",
    "\n",
    "def calculate_similarity(row, sanctioned_names):\n",
    "    return get_max_similarity_score(row['Shareholder - Name'], sanctioned_names)\n",
    "\n",
    "orbis_ownership_data['SimilarityScore_2'] = orbis_ownership_data.apply(lambda row: calculate_similarity(row, sanctioned_names), axis=1)\n",
    "\n",
    "shareholder_sanctioned = orbis_ownership_data[orbis_ownership_data['SimilarityScore_2'] >= threshold]"
   ]
  },
  {
   "cell_type": "code",
   "execution_count": 147,
   "id": "2109e3bb",
   "metadata": {},
   "outputs": [],
   "source": [
    "#Adding a 'shareholder_sanctioned' column and setting it to 1\n",
    "shareholder_sanctioned[\"shareholder_sanctioned\"]=1"
   ]
  },
  {
   "cell_type": "code",
   "execution_count": 150,
   "id": "7164a40a",
   "metadata": {},
   "outputs": [],
   "source": [
    "#Cleaning the 'Shareholder - Direct %' and 'Shareholder - Total %' columns\n",
    "columns_to_process = [\"Shareholder - Direct %\\n03/2014\", \"Shareholder - Total %\\n03/2014\"]\n",
    "\n",
    "for column in columns_to_process:\n",
    "    shareholder_sanctioned[column] = (\n",
    "        shareholder_sanctioned[column]\n",
    "        .replace([\"-\", \"BR\", \"MO\", \"n.a.\"], np.nan)\n",
    "        .astype(float)\n",
    "    )"
   ]
  },
  {
   "cell_type": "code",
   "execution_count": 151,
   "id": "f2b0af90",
   "metadata": {},
   "outputs": [],
   "source": [
    "#Identifying entities where the majority shareholder is sanctioned\n",
    "for index, row in shareholder_sanctioned.iterrows():\n",
    "    if row[\"Shareholder - Direct %\\n03/2014\"] >= 50:\n",
    "        shareholder_sanctioned.at[index, \"maj_shareholder_sanctioned\"] = 1\n",
    "    elif row[\"Shareholder - Total %\\n03/2014\"] >= 50:\n",
    "        shareholder_sanctioned.at[index, \"maj_shareholder_sanctioned\"] = 1\n",
    "    else:\n",
    "        shareholder_sanctioned.at[index, \"maj_shareholder_sanctioned\"] = 0"
   ]
  },
  {
   "cell_type": "code",
   "execution_count": 152,
   "id": "8dde7ece",
   "metadata": {},
   "outputs": [],
   "source": [
    "#Saving shareholder_sanctioned\n",
    "shareholder_sanctioned.to_csv(\"C:/Users/lisa/OneDrive - Nexus365/Thesis Data/sanction_entities_and_individuals/shareholder_sanctioned.csv\")"
   ]
  },
  {
   "cell_type": "markdown",
   "id": "ea7d81d5",
   "metadata": {},
   "source": [
    "### 5. Merging sanctioned_entities, GUO_sanctioned, and shareholder_sanctioned"
   ]
  },
  {
   "cell_type": "code",
   "execution_count": 153,
   "id": "0f9ccbde",
   "metadata": {},
   "outputs": [],
   "source": [
    "#Merging directly and indirectly sanctioned entities\n",
    "all_sanctioned_entities = pd.concat([sanctioned_entities, GUO_sanctioned, shareholder_sanctioned],  axis=0, ignore_index=True)"
   ]
  },
  {
   "cell_type": "code",
   "execution_count": 170,
   "id": "c263f978",
   "metadata": {},
   "outputs": [],
   "source": [
    "#Replacing acronyms with legal entity names again in order to find them in the ORBIS dataset\n",
    "replace_dict = {\"PUBLIC JOINT STOCK COMPANY\": \"PJSC\",\n",
    "               \"JOINT-STOCK COMPANY\": \"J-SC\", \n",
    "                \"JOINT STOCK COMPANY\": \"JSC\", \n",
    "               \"LIMITED LIABILITY COMPANY\": \"LLC\",\n",
    "               \"OBSHCHESTVO S OGRANICHENNOY OTVETSTVENNOSTYU\":\"OOO\",\n",
    "               \"OTKRYTOE AKTSIONERNOE OBSHCHESTVO\":\"OAO\",\n",
    "               \"AKTSIONERNOE OBSHCHESTVO\":\"AO\"}\n",
    "\n",
    "back_to_original = {value: key for key, value in replace_dict.items()}\n",
    "\n",
    "all_sanctioned_entities.replace(to_replace=back_to_original, regex=True, inplace=True)"
   ]
  },
  {
   "cell_type": "code",
   "execution_count": 171,
   "id": "ee0b32f8",
   "metadata": {},
   "outputs": [],
   "source": [
    "#Saving all_sanctioned_entities and manually fixing any differences to names in the ORBIS dataset\n",
    "all_sanctioned_entities.to_csv(\"C:/Users/lisa/OneDrive - Nexus365/Thesis Data/sanction_entities_and_individuals/all_sanctioned_entities.csv\")"
   ]
  },
  {
   "cell_type": "markdown",
   "id": "3e20e08e",
   "metadata": {},
   "source": [
    "### 6. Matching all_sanctioned_entities with economic performance data from ORBIS Europe"
   ]
  },
  {
   "cell_type": "code",
   "execution_count": 175,
   "id": "322794e2",
   "metadata": {},
   "outputs": [],
   "source": [
    "#Loading performance data from ORBIS Europe and the manually reviewed version of all_sanctioned_entities\n",
    "orbis_performance_data = pd.read_csv(\"C:/Users/lisa/OneDrive - Nexus365/Thesis Data/Orbis Data/orbis_performance_data.csv\")\n",
    "all_sanctioned_entities = pd.read_csv(\"C:/Users/lisa/OneDrive - Nexus365/Thesis Data/final/sanctioned_entities.csv\")"
   ]
  },
  {
   "cell_type": "code",
   "execution_count": 178,
   "id": "0abc4e5c",
   "metadata": {},
   "outputs": [],
   "source": [
    "#Filtering for sanctioned firms in the orbis_performance dataframe\n",
    "sanctioned_performance_data = orbis_performance_data[orbis_performance_data[\"Name\"].isin(all_sanctioned_entities[\"orbis_name\"])]"
   ]
  },
  {
   "cell_type": "code",
   "execution_count": 181,
   "id": "9fff372e",
   "metadata": {},
   "outputs": [],
   "source": [
    "#Save as final dataset\n",
    "sanctioned_performance_data.to_csv(\"C:/Users/lisa/OneDrive - Nexus365/Thesis Data/final/sanctioned_performance_data_2.csv\")"
   ]
  }
 ],
 "metadata": {
  "kernelspec": {
   "display_name": "Python 3 (ipykernel)",
   "language": "python",
   "name": "python3"
  },
  "language_info": {
   "codemirror_mode": {
    "name": "ipython",
    "version": 3
   },
   "file_extension": ".py",
   "mimetype": "text/x-python",
   "name": "python",
   "nbconvert_exporter": "python",
   "pygments_lexer": "ipython3",
   "version": "3.11.5"
  }
 },
 "nbformat": 4,
 "nbformat_minor": 5
}
